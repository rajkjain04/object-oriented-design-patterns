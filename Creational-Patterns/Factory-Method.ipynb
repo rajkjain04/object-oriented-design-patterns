{
 "cells": [
  {
   "cell_type": "markdown",
   "id": "cfd69ff5-1ef9-434a-a64a-f96c9d28d823",
   "metadata": {},
   "source": [
    "# Basics of OOPS "
   ]
  },
  {
   "cell_type": "markdown",
   "id": "5fc1a86a-539d-44b3-b22d-0327cbf7d7de",
   "metadata": {},
   "source": [
    "1. Abstraction - Capturing essence of real-world entities by focussing on their crucial characteristics. Manages complexity and ensures a clean design. \n",
    "2. Polymorphism - Ability of objects to assume various forms and behaviours. \n",
    "3. Inheritance - Mechanism where one class inherits attributes and behaviours from another. \n",
    "4. Encapsulation - Bundling data and the methods that operate on that data into one unit. Helps in keeping the internal details under wraps and ensures controller interactions. "
   ]
  },
  {
   "cell_type": "code",
   "execution_count": 2,
   "id": "e7fa1526-e6fd-45a2-a5ee-cf07d351da49",
   "metadata": {},
   "outputs": [],
   "source": [
    "from abc import ABC, abstractmethod\n",
    "\n",
    "class Vehicle(ABC):\n",
    "    @abstractmethod\n",
    "    def getType(self) -> str:\n",
    "        pass\n",
    "\n",
    "class Car(Vehicle):\n",
    "    def getType(self) -> str:\n",
    "        return \"Car\"\n",
    "\n",
    "class Bike(Vehicle):\n",
    "    def getType(self) -> str:\n",
    "        return \"Bike\"\n",
    "\n",
    "class Truck(Vehicle):\n",
    "    def getType(self) -> str:\n",
    "        return \"Truck\"\n",
    "\n",
    "class VehicleFactory(ABC):\n",
    "    @abstractmethod\n",
    "    def createVehicle(self) -> Vehicle:\n",
    "        pass\n",
    "\n",
    "class CarFactory(VehicleFactory):\n",
    "    def createVehicle(self) -> Vehicle:\n",
    "        return Car() \n",
    "\n",
    "class BikeFactory(VehicleFactory):\n",
    "    def createVehicle(self) -> Vehicle:\n",
    "        return Bike() \n",
    "\n",
    "class TruckFactory(VehicleFactory):\n",
    "    def createVehicle(self) -> Vehicle:\n",
    "        return Truck() \n"
   ]
  },
  {
   "cell_type": "code",
   "execution_count": 8,
   "id": "f16bd25a-53e9-484c-8f26-58c2fdd0a55d",
   "metadata": {},
   "outputs": [],
   "source": [
    "car = CarFactory().createVehicle() \n",
    "bike = BikeFactory().createVehicle() \n",
    "truck = TruckFactory().createVehicle() "
   ]
  },
  {
   "cell_type": "code",
   "execution_count": 9,
   "id": "d4fc9937-6b19-434f-82a3-20235e8e2e09",
   "metadata": {},
   "outputs": [
    {
     "name": "stdout",
     "output_type": "stream",
     "text": [
      "Car\n",
      "Bike\n",
      "Truck\n"
     ]
    }
   ],
   "source": [
    "print(car.getType())\n",
    "print(bike.getType())\n",
    "print(truck.getType())"
   ]
  },
  {
   "cell_type": "code",
   "execution_count": null,
   "id": "11f7f144-e0d3-4ad2-b272-b86580168dd6",
   "metadata": {},
   "outputs": [],
   "source": []
  }
 ],
 "metadata": {
  "kernelspec": {
   "display_name": "Python 3 (ipykernel)",
   "language": "python",
   "name": "python3"
  },
  "language_info": {
   "codemirror_mode": {
    "name": "ipython",
    "version": 3
   },
   "file_extension": ".py",
   "mimetype": "text/x-python",
   "name": "python",
   "nbconvert_exporter": "python",
   "pygments_lexer": "ipython3",
   "version": "3.13.2"
  }
 },
 "nbformat": 4,
 "nbformat_minor": 5
}
