{
 "cells": [
  {
   "cell_type": "code",
   "execution_count": 1,
   "id": "4bf8ec10-ccd8-46fd-8636-64f517875241",
   "metadata": {},
   "outputs": [],
   "source": [
    "class Singleton:\n",
    "    _unique_instance = None\n",
    "\n",
    "    def __new__(cls):\n",
    "        if cls._unique_instance is None:\n",
    "            cls._unique_instance = super(Singleton, cls).__new__(cls)\n",
    "\n",
    "        return cls._unique_instance\n",
    "\n",
    "    def getValue(self) -> str:\n",
    "        return self.value\n",
    "\n",
    "    def setValue(self, value: str):\n",
    "        self.value = value"
   ]
  },
  {
   "cell_type": "code",
   "execution_count": 2,
   "id": "bf34eb83-1777-4b40-ba42-e3576228736b",
   "metadata": {},
   "outputs": [],
   "source": [
    "singleton = Singleton() "
   ]
  },
  {
   "cell_type": "code",
   "execution_count": 3,
   "id": "8a2e0b01-352e-48e3-aa1c-6828b33a376a",
   "metadata": {},
   "outputs": [],
   "source": [
    "singleton.setValue(5) "
   ]
  },
  {
   "cell_type": "code",
   "execution_count": 4,
   "id": "59c6a1ae-ead4-4a53-bb8f-01506821df00",
   "metadata": {},
   "outputs": [
    {
     "data": {
      "text/plain": [
       "5"
      ]
     },
     "execution_count": 4,
     "metadata": {},
     "output_type": "execute_result"
    }
   ],
   "source": [
    "singleton.getValue() "
   ]
  },
  {
   "cell_type": "code",
   "execution_count": null,
   "id": "4fd79dfa-d37a-4792-9f11-8f5462b59034",
   "metadata": {},
   "outputs": [],
   "source": []
  }
 ],
 "metadata": {
  "kernelspec": {
   "display_name": "Python 3 (ipykernel)",
   "language": "python",
   "name": "python3"
  },
  "language_info": {
   "codemirror_mode": {
    "name": "ipython",
    "version": 3
   },
   "file_extension": ".py",
   "mimetype": "text/x-python",
   "name": "python",
   "nbconvert_exporter": "python",
   "pygments_lexer": "ipython3",
   "version": "3.13.2"
  }
 },
 "nbformat": 4,
 "nbformat_minor": 5
}
